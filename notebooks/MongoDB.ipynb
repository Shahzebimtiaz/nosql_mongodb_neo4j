{
 "cells": [
  {
   "cell_type": "markdown",
   "metadata": {},
   "source": [
    "# MongoDB notebook\n",
    "Shahzeb Imtiaz\n",
    "### Dataset\n",
    "World Nuclear Power Reactors (Updated 7 months ago)\n",
    "https://www.kaggle.com/datasets/tariqbashir/world-nuclear-power-reactors\n",
    "### Collaborators\n",
    "Tariq Mahmood(Owner)"
   ]
  },
  {
   "cell_type": "markdown",
   "metadata": {},
   "source": [
    "### Introduction\n",
    "This dataset provides a comprehensive stats about the world nuclear power generation resources. It provides detailed information about the operable nuclear power stations working globally. It comprises of location, country, reactor name, type, commissioning date, status, production of electricity per unit."
   ]
  },
  {
   "cell_type": "code",
   "execution_count": null,
   "metadata": {},
   "outputs": [
    {
     "name": "stdout",
     "output_type": "stream",
     "text": [
      "The autoreload extension is already loaded. To reload it, use:\n",
      "  %reload_ext autoreload\n"
     ]
    }
   ],
   "source": [
    "#autoreload\n",
    "%load_ext autoreload\n",
    "%autoreload 2"
   ]
  },
  {
   "cell_type": "markdown",
   "metadata": {},
   "source": [
    "### Load the dataset"
   ]
  },
  {
   "cell_type": "code",
   "execution_count": null,
   "metadata": {},
   "outputs": [],
   "source": [
    "!pip install pymongo\n",
    "!pip install pandas pymongo dnspython\n",
    "!curl ifconfig.me"
   ]
  },
  {
   "cell_type": "code",
   "execution_count": null,
   "metadata": {},
   "outputs": [],
   "source": [
    "from pymongo.mongo_client import MongoClient\n",
    "from pymongo.server_api import ServerApi\n",
    "import pandas as pd\n",
    "# Initiate the database connection\n",
    "\n",
    "username = \"<username>\"\n",
    "password = \"<password>\"\n",
    "cluster_url = \"<clusterurl>\"\n",
    "uri = f\"mongodb+srv://{username}:{password}@{cluster_url}/?retryWrites=true&w=majority\"\n",
    "uri = \"mongodb+srv://<username here>:<password here>@<cluster url here>/?retryWrites=true&w=majority\" #use this if you are having issue with the above line in macOS\n",
    "\n",
    "# Create a new client and connect to the server\n",
    "client = MongoClient(uri, server_api=ServerApi('1'))\n",
    "\n",
    "# Create or select a database\n",
    "db = client[\"nuclear_power_reactors\"]\n",
    "\n",
    "# Load the dataset into a pandas DataFrame\n",
    "data = pd.read_csv(\"../data/World_Nuclear_Power_Reactors 2.csv\", encoding=\"latin1\")\n",
    "\n",
    "# Convert DataFrame to dictionary\n",
    "data_dict = data.to_dict(orient=\"records\")\n",
    "\n",
    "# Insert data into MongoDB collection\n",
    "collection = db[\"reactors\"]\n",
    "collection.insert_many(data_dict)\n",
    "\n",
    "# Confirm insertion\n",
    "print(collection.count_documents({}))\n",
    "\n",
    "# Send a ping to confirm a successful connection\n",
    "try:\n",
    "    client.admin.command('ping')\n",
    "    print(\"Pinged your deployment. You successfully connected to MongoDB!\")\n",
    "except Exception as e:\n",
    "    print(e)"
   ]
  },
  {
   "cell_type": "markdown",
   "metadata": {},
   "source": [
    "Lists of Databses:"
   ]
  },
  {
   "cell_type": "code",
   "execution_count": 3,
   "metadata": {},
   "outputs": [
    {
     "name": "stdout",
     "output_type": "stream",
     "text": [
      "['employee_db', 'nuclear_power_reactors', 'sample_airbnb', 'sample_analytics', 'sample_flix', 'sample_geospatial', 'sample_guides', 'sample_mflix', 'sample_restaurants', 'sample_supplies', 'sample_training', 'sample_weatherdata', 'test', 'test-database', 'admin', 'local']\n"
     ]
    }
   ],
   "source": [
    "database_links = client.list_database_names()\n",
    "print(database_links)"
   ]
  },
  {
   "cell_type": "markdown",
   "metadata": {},
   "source": [
    "Collections of nuclear_power_reactors:"
   ]
  },
  {
   "cell_type": "code",
   "execution_count": 4,
   "metadata": {},
   "outputs": [
    {
     "name": "stdout",
     "output_type": "stream",
     "text": [
      "['reactors']\n"
     ]
    }
   ],
   "source": [
    "current_db = \"nuclear_power_reactors\"\n",
    "db = client[current_db]\n",
    "\n",
    "collection_links = db.list_collection_names()\n",
    "print(collection_links)"
   ]
  },
  {
   "cell_type": "markdown",
   "metadata": {},
   "source": [
    "### Questions and anwsers"
   ]
  },
  {
   "cell_type": "markdown",
   "metadata": {},
   "source": [
    "### 1. Easy: Retrieve Documents\n",
    "\n",
    "Retrieve one document from the reactors collection where the Country is Japan.\n",
    "\n",
    "Print the result.\n",
    "Store the _id of the reactor into a variable."
   ]
  },
  {
   "cell_type": "code",
   "execution_count": 5,
   "metadata": {},
   "outputs": [
    {
     "name": "stdout",
     "output_type": "stream",
     "text": [
      "{'_id': ObjectId('66114fd996a3a5e5fdc360fb'), 'Location': nan, 'Reactor Name': 'Genkai 3', 'Model': 'M (4-loop)', 'Reactor Type': 'PWR', 'Net Capacity (MWe)': '1127', 'Construction Start': nan, 'First Grid Connection': '1993-06', 'Status': 'Working', 'Country': 'Japan', 'Unnamed: 9': nan}\n",
      "Reactor ID: 66114fd996a3a5e5fdc360fb\n"
     ]
    }
   ],
   "source": [
    "result = collection.find_one({\"Country\": \"Japan\"})\n",
    "\n",
    "print(result)\n",
    "\n",
    "reactor_id = result[\"_id\"]\n",
    "print(\"Reactor ID:\", reactor_id)"
   ]
  },
  {
   "cell_type": "markdown",
   "metadata": {},
   "source": [
    "### 2. Easy: Count Documents\n",
    "\n",
    "Count the total number of Reactor where the Status is 'Working'."
   ]
  },
  {
   "cell_type": "code",
   "execution_count": 6,
   "metadata": {},
   "outputs": [
    {
     "name": "stdout",
     "output_type": "stream",
     "text": [
      "Total number of Reactors where the Status is 'Working': 313\n"
     ]
    }
   ],
   "source": [
    "working_count = collection.count_documents({\"Status\": \"Working\"})\n",
    "\n",
    "print(\"Total number of Reactors where the Status is 'Working':\", working_count)"
   ]
  },
  {
   "cell_type": "markdown",
   "metadata": {},
   "source": [
    "### 3. Easy: Find Unique Values\n",
    "\n",
    "Retrieve all unique values of the Reactor Type.\n",
    "\n",
    "Print the unique values and count"
   ]
  },
  {
   "cell_type": "code",
   "execution_count": 7,
   "metadata": {},
   "outputs": [
    {
     "name": "stdout",
     "output_type": "stream",
     "text": [
      "Unique values of Reactor Type and their counts:\n",
      "LWGR: 4\n",
      "nan: 16\n",
      "SPIC: 1\n",
      "560: 1\n",
      "FBR: 4\n",
      "1720: 2\n",
      "PWR: 384\n",
      "CNNC & Huaneng: 1\n",
      "HTGR: 3\n",
      "950: 4\n",
      "720: 2\n",
      "CNNC: 9\n",
      "Huaneng: 1\n",
      "32: 2\n",
      "SFR: 1\n",
      "820: 1\n",
      "SGR: 1\n",
      "1417: 1\n",
      "PWRx4: 2\n",
      "OCR: 1\n",
      "HWGCR: 1\n",
      "BWR: 89\n",
      "CGN: 9\n",
      "1057: 1\n",
      "GCR: 10\n",
      "CGN & SPI: 3\n",
      "CNNC & Huadian: 3\n",
      "PHWR: 48\n",
      "CGN & Datang: 2\n"
     ]
    }
   ],
   "source": [
    "unique_reactor_types = collection.aggregate([\n",
    "    {\"$group\": {\"_id\": \"$Reactor Type\", \"count\": {\"$sum\": 1}}}\n",
    "])\n",
    "\n",
    "print(\"Unique values of Reactor Type and their counts:\")\n",
    "for reactor_type in unique_reactor_types:\n",
    "    print(f\"{reactor_type['_id']}: {reactor_type['count']}\")"
   ]
  },
  {
   "cell_type": "markdown",
   "metadata": {},
   "source": [
    "### 4. Easy: Simple Deletion\n",
    "\n",
    "Delete all reactors from the reactors collection where the Status is 'Proposed'."
   ]
  },
  {
   "cell_type": "code",
   "execution_count": 11,
   "metadata": {},
   "outputs": [
    {
     "name": "stdout",
     "output_type": "stream",
     "text": [
      "Number of documents deleted: 51\n"
     ]
    }
   ],
   "source": [
    "result = collection.delete_many({ \"Status\": \"Proposed\" })\n",
    "\n",
    "deleted_count = result.deleted_count\n",
    "\n",
    "print(\"Number of documents deleted:\", deleted_count)\n"
   ]
  },
  {
   "cell_type": "markdown",
   "metadata": {},
   "source": [
    "### 5. Moderate: Conditional Find\n",
    "\n",
    "Retrieve all reactors from the reactors collection located in Canada and have a Reactor Type of PHWR.\n",
    "\n",
    "Print the count of the documents."
   ]
  },
  {
   "cell_type": "code",
   "execution_count": 53,
   "metadata": {},
   "outputs": [
    {
     "name": "stdout",
     "output_type": "stream",
     "text": [
      "Count of reactors in Canada with Reactor Type of PHWR: 19\n"
     ]
    }
   ],
   "source": [
    "query = {\"Country\": \"Canada\", \"Reactor Type\": \"PHWR\"}\n",
    "\n",
    "# Count the documents matching the query\n",
    "count = collection.count_documents(query)\n",
    "\n",
    "# Print the count\n",
    "print(\"Count of reactors in Canada with Reactor Type of PHWR:\", count)"
   ]
  },
  {
   "cell_type": "markdown",
   "metadata": {},
   "source": [
    "### 6. Moderate: Conditional Update\n",
    "\n",
    "Update the status of the reactor where First Grid Connection is 2025, change the status as 'In the future'.\n",
    "\n",
    "\n",
    "Count the updated documents."
   ]
  },
  {
   "cell_type": "code",
   "execution_count": 54,
   "metadata": {},
   "outputs": [
    {
     "name": "stdout",
     "output_type": "stream",
     "text": [
      "Updated 1 documents.\n"
     ]
    }
   ],
   "source": [
    "query = {\n",
    "    \"First Grid Connection\": \"2025\"\n",
    "}\n",
    "\n",
    "update_operation = {\n",
    "    \"$set\": {\n",
    "        \"Status\": \"In future\"\n",
    "    }\n",
    "}\n",
    "\n",
    "result = collection.update_one(query, update_operation)\n",
    "updated_count = result.modified_count\n",
    "\n",
    "print(f\"Updated {updated_count} documents.\")"
   ]
  },
  {
   "cell_type": "markdown",
   "metadata": {},
   "source": [
    "### 7. Moderate: Date Range Query\n",
    "\n",
    "Retrieve all reactors from the reactors collection that started operation between January 1, 1970, and December 31, 1979.\n",
    "\n",
    "Print the count of the documents."
   ]
  },
  {
   "cell_type": "code",
   "execution_count": 55,
   "metadata": {},
   "outputs": [
    {
     "name": "stdout",
     "output_type": "stream",
     "text": [
      "Count of reactors started operation between January 1, 1970, and December 31, 1979: 32\n"
     ]
    }
   ],
   "source": [
    "from datetime import datetime\n",
    "\n",
    "start_date = datetime(1970, 1, 1)\n",
    "end_date = datetime(1979, 12, 31)\n",
    "query = {\n",
    "    \"First Grid Connection\": {\n",
    "        \"$gte\": start_date.strftime(\"%Y-%m-%d\"),\n",
    "        \"$lte\": end_date.strftime(\"%Y-%m-%d\")\n",
    "    }\n",
    "}\n",
    "\n",
    "# Count documents matching the date range query\n",
    "count = collection.count_documents(query)\n",
    "\n",
    "# Print the count\n",
    "print(\"Count of reactors started operation between January 1, 1970, and December 31, 1979:\", count)\n"
   ]
  },
  {
   "cell_type": "markdown",
   "metadata": {},
   "source": [
    "### 8. Moderate: Grouping and Counting\n",
    "\n",
    "Group all reactors by Country and count the number of reactors in each country.\n",
    "\n",
    "Print the result."
   ]
  },
  {
   "cell_type": "code",
   "execution_count": 56,
   "metadata": {},
   "outputs": [
    {
     "name": "stdout",
     "output_type": "stream",
     "text": [
      "Number of reactors by country:\n",
      "USA: 145\n",
      "Russia: 90\n",
      "France: 56\n",
      "Germany: 36\n",
      "South Korea: 34\n",
      "Japan: 33\n",
      "India: 30\n",
      "China: 29\n",
      "Ukraine: 21\n",
      "UK : 20\n",
      "Canada: 19\n",
      "Spain: 7\n",
      "Turkey: 7\n",
      "Sweden: 6\n",
      "Pakistan: 6\n",
      "Czech republic: 6\n",
      "Balgaria: 5\n",
      "Finland: 5\n",
      "Baljium: 5\n",
      "Salovakia: 5\n",
      "Egypt: 4\n",
      "Switzerland: 4\n",
      "Italy: 4\n",
      "Argentina: 3\n",
      "Poland: 3\n",
      "Brazil: 3\n",
      "Jordan: 2\n",
      "Bangladesh: 2\n",
      "Kazakhstan: 2\n",
      "Hungary: 2\n",
      "Maxico: 2\n",
      "Romania: 2\n",
      "Lithuania: 2\n",
      "Balarus: 2\n",
      "nan: 1\n",
      "Netherland: 1\n",
      "Armenia: 1\n",
      "Iran: 1\n",
      "UAE: 1\n"
     ]
    }
   ],
   "source": [
    "pipeline = [\n",
    "    {\"$group\": {\"_id\": \"$Country\", \"count\": {\"$sum\": 1}}},\n",
    "    {\"$sort\": {\"count\": -1}}\n",
    "]\n",
    "\n",
    "result = collection.aggregate(pipeline)\n",
    "\n",
    "# Print the result\n",
    "print(\"Number of reactors by country:\")\n",
    "for doc in result:\n",
    "    print(f\"{doc['_id']}: {doc['count']}\")"
   ]
  },
  {
   "cell_type": "markdown",
   "metadata": {},
   "source": [
    "### 9. Difficult: Aggregation Pipeline\n",
    "\n",
    "Calculate the average Net Capacity (MWe) for Reactor Type in the reactors collection for country Pakistan and sort the result in descending order.\n",
    "\n",
    "Print the result."
   ]
  },
  {
   "cell_type": "code",
   "execution_count": 49,
   "metadata": {},
   "outputs": [
    {
     "name": "stdout",
     "output_type": "stream",
     "text": [
      "{'_id': 'PWR', 'average_capacity': 543.6666666666666}\n"
     ]
    }
   ],
   "source": [
    "pipeline = [\n",
    "    {\"$match\": {\"Country\": \"Pakistan\", \"Net Capacity (MWe)\": {\"$exists\": True}}},\n",
    "    {\"$group\": {\"_id\": \"$Reactor Type\", \"average_capacity\": {\"$avg\": {\"$toDouble\": \"$Net Capacity (MWe)\"}}}},\n",
    "    {\"$sort\": {\"average_capacity\": -1}}\n",
    "]\n",
    "\n",
    "result = collection.aggregate(pipeline)\n",
    "\n",
    "for doc in result:\n",
    "    print(doc)\n"
   ]
  },
  {
   "cell_type": "markdown",
   "metadata": {},
   "source": [
    "### 10 . Challenging: Conditional Aggregation\n",
    "Calculate the percentage of reactors in each country that are currently under construction.\n",
    "\n",
    "Use the $match stage to filter reactors based on their status.\n",
    "\n",
    "\n",
    "Group reactors by country and count the number of reactors under construction and total reactors for each country.\n",
    "\n",
    "\n",
    "Calculate the percentage of reactors under construction for each country."
   ]
  },
  {
   "cell_type": "code",
   "execution_count": 60,
   "metadata": {},
   "outputs": [
    {
     "name": "stdout",
     "output_type": "stream",
     "text": [
      "Country: Brazil\n",
      "Percentage of reactors under construction: 100.0\n",
      "Country: Iran\n",
      "Percentage of reactors under construction: 100.0\n",
      "Country: Turkey\n",
      "Percentage of reactors under construction: 100.0\n",
      "Country: Bangladesh\n",
      "Percentage of reactors under construction: 100.0\n",
      "Country: Egypt\n",
      "Percentage of reactors under construction: 100.0\n",
      "Country: India\n",
      "Percentage of reactors under construction: 100.0\n"
     ]
    }
   ],
   "source": [
    "pipeline = [\n",
    "    {\"$match\": {\"Status\": \"Under Construction\"}},\n",
    "    {\"$group\": {\n",
    "        \"_id\": \"$Country\",\n",
    "        \"under_construction_count\": {\"$sum\": 1},\n",
    "        \"total_count\": {\"$sum\": 1}\n",
    "    }},\n",
    "    {\"$project\": {\n",
    "        \"_id\": 1,\n",
    "        \"under_construction_percentage\": {\"$multiply\": [{\"$divide\": [\"$under_construction_count\", \"$total_count\"]}, 100]}\n",
    "    }}\n",
    "]\n",
    "\n",
    "result = collection.aggregate(pipeline)\n",
    "\n",
    "for doc in result:\n",
    "    print(\"Country:\", doc[\"_id\"])\n",
    "    print(\"Percentage of reactors under construction:\", doc[\"under_construction_percentage\"])\n"
   ]
  }
 ],
 "metadata": {
  "kernelspec": {
   "display_name": "Python 3",
   "language": "python",
   "name": "python3"
  },
  "language_info": {
   "codemirror_mode": {
    "name": "ipython",
    "version": 3
   },
   "file_extension": ".py",
   "mimetype": "text/x-python",
   "name": "python",
   "nbconvert_exporter": "python",
   "pygments_lexer": "ipython3",
   "version": "3.11.5"
  }
 },
 "nbformat": 4,
 "nbformat_minor": 2
}
