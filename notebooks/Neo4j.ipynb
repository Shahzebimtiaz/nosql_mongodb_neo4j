{
 "cells": [
  {
   "cell_type": "markdown",
   "metadata": {},
   "source": [
    "# Neo4j Notebook\n",
    "Shahzeb Imtiaz\n",
    "### Dataset\n",
    "World Nuclear Power Reactors (Updated 7 months ago)\n",
    "https://www.kaggle.com/datasets/tariqbashir/world-nuclear-power-reactors\n",
    "### Collaborators\n",
    "Tariq Mahmood(Owner)"
   ]
  },
  {
   "cell_type": "markdown",
   "metadata": {},
   "source": [
    "### Introduction\n",
    "This dataset provides a comprehensive stats about the world nuclear power generation resources. It provides detailed information about the operable nuclear power stations working globally. It comprises of location, country, reactor name, type, commissioning date, status, production of electricity per unit."
   ]
  },
  {
   "cell_type": "markdown",
   "metadata": {},
   "source": [
    "### Installation"
   ]
  },
  {
   "cell_type": "code",
   "execution_count": null,
   "metadata": {},
   "outputs": [],
   "source": [
    "!pip3 install neo4j"
   ]
  },
  {
   "cell_type": "markdown",
   "metadata": {},
   "source": [
    "### Import libraries"
   ]
  },
  {
   "cell_type": "code",
   "execution_count": 2,
   "metadata": {},
   "outputs": [],
   "source": [
    "import pandas as pd\n",
    "from neo4j import GraphDatabase"
   ]
  },
  {
   "cell_type": "markdown",
   "metadata": {},
   "source": [
    "### Connecting to the database"
   ]
  },
  {
   "cell_type": "code",
   "execution_count": 36,
   "metadata": {},
   "outputs": [],
   "source": [
    "from neo4j import GraphDatabase\n",
    "\n",
    "# URI examples: \"neo4j://localhost\", \"neo4j+s://xxx.databases.neo4j.io\"\n",
    "URI = \"neo4j+s://<your url here>\"\n",
    "AUTH = (\"username\", \"password\")\n",
    "\n",
    "driver = GraphDatabase.driver(URI, auth=AUTH)\n",
    "driver.verify_connectivity()"
   ]
  },
  {
   "cell_type": "markdown",
   "metadata": {},
   "source": [
    "### Data cleaning"
   ]
  },
  {
   "cell_type": "code",
   "execution_count": 38,
   "metadata": {},
   "outputs": [
    {
     "name": "stdout",
     "output_type": "stream",
     "text": [
      "Data cleaning completed. Cleaned CSV file saved successfully.\n"
     ]
    }
   ],
   "source": [
    "import pandas as pd\n",
    "\n",
    "# Define the path to the CSV file\n",
    "csv_file_path = \"../data/World_Nuclear_Power_Reactors.csv\"\n",
    "\n",
    "# Load the CSV file with different encodings to handle UnicodeDecodeError\n",
    "encodings = ['utf-8', 'latin-1', 'ISO-8859-1']\n",
    "for encoding in encodings:\n",
    "    try:\n",
    "        df = pd.read_csv(csv_file_path, encoding=encoding)\n",
    "        break\n",
    "    except UnicodeDecodeError:\n",
    "        continue\n",
    "\n",
    "# Fill missing values with the mean for numeric columns\n",
    "numeric_columns = df.select_dtypes(include=['float64', 'int64']).columns\n",
    "df[numeric_columns] = df[numeric_columns].fillna(df[numeric_columns].mean())\n",
    "\n",
    "# Save the cleaned CSV file\n",
    "cleaned_csv_file_path = \"../data/cleaned_World_Nuclear_Power_Reactors.csv\"\n",
    "df.to_csv(cleaned_csv_file_path, index=False)\n",
    "\n",
    "print(\"Data cleaning completed. Cleaned CSV file saved successfully.\")\n"
   ]
  },
  {
   "cell_type": "markdown",
   "metadata": {},
   "source": [
    "Data loading"
   ]
  },
  {
   "cell_type": "code",
   "execution_count": null,
   "metadata": {},
   "outputs": [],
   "source": [
    "import csv\n",
    "\n",
    "# Neo4j Aura database credentials\n",
    "URI = \"neo4j+s://your url here\"\n",
    "username = \"username\"\n",
    "password = \"password\"\n",
    "\n",
    "# Function to connect to the Neo4j Aura database\n",
    "def connect_to_database():\n",
    "    return GraphDatabase.driver(URI, auth=(username, password))\n",
    "\n",
    "# Function to load data from CSV into the database\n",
    "def load_data(driver): \n",
    "    with open('../data/cleaned_World_Nuclear_Power_Reactors.csv', mode='r') as csv_file:\n",
    "        csv_reader = csv.DictReader(csv_file)\n",
    "        with driver.session() as session:\n",
    "            for row in csv_reader:\n",
    "                query = \"\"\"\n",
    "                MERGE (country:Country { name: $countryName })\n",
    "                CREATE (r:Reactor {\n",
    "                    Location: $location,\n",
    "                    ReactorName: $reactorName,\n",
    "                    Model: $model,\n",
    "                    ReactorType: $reactorType,\n",
    "                    NetCapacityMWe: toFloat($netCapacityMWe),\n",
    "                    ConstructionStart: $constructionStart,\n",
    "                    FirstGridConnection: $firstGridConnection,\n",
    "                    Status: $status\n",
    "                })-[:LOCATED_IN]->(country)\n",
    "                \"\"\"\n",
    "                session.run(query, \n",
    "                            countryName=row['Country'],\n",
    "                            location=row['Location'],\n",
    "                            reactorName=row['Reactor Name'],\n",
    "                            model=row['Model'],\n",
    "                            reactorType=row['Reactor Type'],\n",
    "                            netCapacityMWe=row['Net Capacity (MWe)'],\n",
    "                            constructionStart=row['Construction Start'],\n",
    "                            firstGridConnection=row['First Grid Connection'],\n",
    "                            status=row['Status'])\n",
    "\n",
    "# Connect to the Neo4j Aura database\n",
    "driver = connect_to_database()\n",
    "\n",
    "# Load data from CSV into the database\n",
    "load_data(driver)"
   ]
  },
  {
   "cell_type": "markdown",
   "metadata": {},
   "source": [
    "### Questions and Answers"
   ]
  },
  {
   "cell_type": "markdown",
   "metadata": {},
   "source": [
    "### 1. Easy: How many countries have nuclear power reactors?"
   ]
  },
  {
   "cell_type": "code",
   "execution_count": 53,
   "metadata": {},
   "outputs": [
    {
     "name": "stdout",
     "output_type": "stream",
     "text": [
      "Number of countries with nuclear power reactors: 39\n"
     ]
    }
   ],
   "source": [
    "query = \"\"\"\n",
    "MATCH (c:Country)<-[:LOCATED_IN]-(r:Reactor)\n",
    "RETURN COUNT(DISTINCT c) AS NumberOfCountriesWithReactors\n",
    "\"\"\"\n",
    "\n",
    "result = driver.execute_query(query)\n",
    "count_countries_with_reactors = result[0][0][\"NumberOfCountriesWithReactors\"]\n",
    "\n",
    "print(\"Number of countries with nuclear power reactors:\", count_countries_with_reactors)\n"
   ]
  },
  {
   "cell_type": "markdown",
   "metadata": {},
   "source": [
    "### 2. Count the total number of reactors which the Status is 'Working'."
   ]
  },
  {
   "cell_type": "code",
   "execution_count": 50,
   "metadata": {},
   "outputs": [
    {
     "name": "stdout",
     "output_type": "stream",
     "text": [
      "Number of working reactors: 311\n"
     ]
    }
   ],
   "source": [
    "query = \"\"\"\n",
    "MATCH (r:Reactor)\n",
    "WHERE r.Status = 'Working'\n",
    "RETURN count(r) AS numberOfWorkingReactors\n",
    "\"\"\"\n",
    "\n",
    "result = driver.execute_query(query)\n",
    "count_working_reactors = result[0][0][\"numberOfWorkingReactors\"]\n",
    "\n",
    "print(\"Number of working reactors:\", count_working_reactors)\n"
   ]
  },
  {
   "cell_type": "markdown",
   "metadata": {},
   "source": [
    "### 3. Delete the nodes which with 'Permanent Shutdown' Status and any relationship attached them."
   ]
  },
  {
   "cell_type": "code",
   "execution_count": 54,
   "metadata": {},
   "outputs": [
    {
     "name": "stdout",
     "output_type": "stream",
     "text": [
      "Number of nodes with 'Permanent Shutdown' status before deletion: 44\n",
      "Number of nodes with 'Permanent Shutdown' status after deletion: 0\n",
      "Number of nodes deleted: 44\n"
     ]
    }
   ],
   "source": [
    "query_count_before = \"\"\"\n",
    "MATCH (r:Reactor)\n",
    "WHERE r.Status = 'Permanent Shutdown'\n",
    "RETURN count(r) AS countBeforeDeletion\n",
    "\"\"\"\n",
    "\n",
    "result_before = driver.execute_query(query_count_before)\n",
    "count_before = result_before[0][0][\"countBeforeDeletion\"]\n",
    "\n",
    "query_delete = \"\"\"\n",
    "MATCH (r:Reactor)\n",
    "WHERE r.Status = 'Permanent Shutdown'\n",
    "DETACH DELETE r\n",
    "\"\"\"\n",
    "\n",
    "result_delete = driver.execute_query(query_delete)\n",
    "\n",
    "query_count_after = \"\"\"\n",
    "MATCH (r:Reactor)\n",
    "WHERE r.Status = 'Permanent Shutdown'\n",
    "RETURN count(r) AS countAfterDeletion\n",
    "\"\"\"\n",
    "\n",
    "result_after = driver.execute_query(query_count_after)\n",
    "count_after = result_after[0][0][\"countAfterDeletion\"]\n",
    "\n",
    "print(\"Number of nodes with 'Permanent Shutdown' status before deletion:\", count_before)\n",
    "print(\"Number of nodes with 'Permanent Shutdown' status after deletion:\", count_after)\n",
    "print(\"Number of nodes deleted:\", count_before - count_after)\n"
   ]
  },
  {
   "cell_type": "markdown",
   "metadata": {},
   "source": [
    "### 4. Retrieve all reactors which located in China and have a Reactor Type of CGN."
   ]
  },
  {
   "cell_type": "code",
   "execution_count": 55,
   "metadata": {},
   "outputs": [
    {
     "name": "stdout",
     "output_type": "stream",
     "text": [
      "Number of reactors in China with 'CGN' type: 3\n"
     ]
    }
   ],
   "source": [
    "query  = \"\"\"\n",
    "MATCH (r:Reactor {Country: 'China', `Reactor Type`: 'CGN'})\n",
    "RETURN r\n",
    "\"\"\"\n",
    "\n",
    "result = driver.execute_query(query)\n",
    "count_reactors_in_china_with_cgn = len(result)\n",
    "\n",
    "print(\"Number of reactors in China with 'CGN' type:\", count_reactors_in_china_with_cgn)"
   ]
  },
  {
   "cell_type": "markdown",
   "metadata": {},
   "source": [
    "### 5. Retrieve all reactors that construction started from September 9, 2011, and May 1, 1975."
   ]
  },
  {
   "cell_type": "code",
   "execution_count": 62,
   "metadata": {},
   "outputs": [
    {
     "name": "stdout",
     "output_type": "stream",
     "text": [
      "EagerResult(records=[<Record r=<Node element_id='4:d85c10f1-8b58-4b7e-95ca-7d48097342e7:45' labels=frozenset({'Reactor'}) properties={'Status': 'Working', 'NetCapacityMWe': 660.0, 'ConstructionStart': '5/1/1975', 'ReactorType': 'PHWR', 'ReactorName': 'Point Lepreau', 'Model': 'CANDU 6', 'FirstGridConnection': '9/11/1982', 'Location': ''}>>, <Record r=<Node element_id='4:d85c10f1-8b58-4b7e-95ca-7d48097342e7:221' labels=frozenset({'Reactor'}) properties={'Status': 'Under Construction', 'NetCapacityMWe': 700.0, 'ConstructionStart': '9/30/2011', 'ReactorType': 'PHWR', 'ReactorName': 'Rajasthan 8', 'Model': 'Horizontal Pressure Tube type', 'FirstGridConnection': '', 'Location': ''}>>], summary=<neo4j._work.summary.ResultSummary object at 0x132c10f50>, keys=['r'])\n"
     ]
    }
   ],
   "source": [
    "query = \"\"\"\n",
    "MATCH (r:Reactor)\n",
    "WHERE r.`ConstructionStart` IN ['5/1/1975', '9/30/2011']\n",
    "RETURN r\n",
    "\"\"\"\n",
    "\n",
    "result = driver.execute_query(query)\n",
    "print(result)\n"
   ]
  },
  {
   "cell_type": "markdown",
   "metadata": {},
   "source": [
    "### 6. How many reactors were started before 1972-08 and after the year 1975-05?"
   ]
  },
  {
   "cell_type": "code",
   "execution_count": 63,
   "metadata": {},
   "outputs": [
    {
     "name": "stdout",
     "output_type": "stream",
     "text": [
      "Number of reactors constructed before 1972-08: <Record ReactorsBefore1972=325>\n",
      "Number of reactors constructed after 1975-05: <Record ReactorsAfter1975=219>\n"
     ]
    }
   ],
   "source": [
    "query_before_1972 = \"\"\"\n",
    "MATCH (r:Reactor)\n",
    "WHERE r.`ConstructionStart` < \"1972-08\"\n",
    "RETURN count(r) AS ReactorsBefore1972\n",
    "\"\"\"\n",
    "\n",
    "query_after_1975 = \"\"\"\n",
    "MATCH (r:Reactor)\n",
    "WHERE r.`ConstructionStart` > \"1975-05\"\n",
    "RETURN count(r) AS ReactorsAfter1975\n",
    "\"\"\"\n",
    "\n",
    "result_before_1972 = driver.execute_query(query_before_1972)\n",
    "result_after_1975 = driver.execute_query(query_after_1975)\n",
    "\n",
    "reactors_before_1972 = result_before_1972[0][0]\n",
    "reactors_after_1975 = result_after_1975[0][0]\n",
    "\n",
    "# Print the counts\n",
    "print(\"Number of reactors constructed before 1972-08:\", reactors_before_1972)\n",
    "print(\"Number of reactors constructed after 1975-05:\", reactors_after_1975)\n",
    "\n"
   ]
  },
  {
   "cell_type": "markdown",
   "metadata": {},
   "source": [
    "### 7. Which is the oldest reactor still in operation?"
   ]
  },
  {
   "cell_type": "code",
   "execution_count": 65,
   "metadata": {},
   "outputs": [
    {
     "name": "stdout",
     "output_type": "stream",
     "text": [
      "Country: <Record OldestReactorName='Pickering 1' constructionDate=neo4j.time.Date(1966, 6, 1)>, Oldest Construction Start: <Record OldestReactorName='Pickering 1' constructionDate=neo4j.time.Date(1966, 6, 1)>\n"
     ]
    }
   ],
   "source": [
    "query = \"\"\"\n",
    "MATCH (r:Reactor)\n",
    "WHERE r.Status = \"Working\" AND r.ConstructionStart =~ \".*[0-9]{1,2}/[0-9]{1,2}/[0-9]{4}.*\"\n",
    "WITH r, date(datetime({year: toInteger(split(r.ConstructionStart, \"/\")[2]), month: toInteger(split(r.ConstructionStart, \"/\")[0]), day: toInteger(split(r.ConstructionStart, \"/\")[1])})) AS constructionDate\n",
    "ORDER BY constructionDate ASC\n",
    "LIMIT 1\n",
    "RETURN r.ReactorName AS OldestReactorName, constructionDate\n",
    "\"\"\"\n",
    "result = driver.execute_query(query)\n",
    "\n",
    "if result:\n",
    "    record = result[0]\n",
    "    country = record[0]\n",
    "    oldest_construction_start = record[0]\n",
    "    print(f\"Country: {country}, Oldest Construction Start: {oldest_construction_start}\")\n",
    "else:\n",
    "    print(\"No records found.\")\n",
    "\n",
    "\n"
   ]
  },
  {
   "cell_type": "markdown",
   "metadata": {},
   "source": [
    "### 8. Calculate the average net capacity (MWe) for reactors of each reactor type."
   ]
  },
  {
   "cell_type": "code",
   "execution_count": 66,
   "metadata": {},
   "outputs": [
    {
     "name": "stdout",
     "output_type": "stream",
     "text": [
      "Average net capacity of reactors by type: EagerResult(records=[<Record reactorType='PHWR' AvgNetCapacity=None>, <Record reactorType='PWR' AvgNetCapacity=None>, <Record reactorType='' AvgNetCapacity=None>, <Record reactorType='BWR' AvgNetCapacity=None>, <Record reactorType='FBR' AvgNetCapacity=None>, <Record reactorType='1057' AvgNetCapacity=None>, <Record reactorType='720' AvgNetCapacity=None>, <Record reactorType='32' AvgNetCapacity=None>, <Record reactorType='950' AvgNetCapacity=None>, <Record reactorType='560' AvgNetCapacity=None>, <Record reactorType='820' AvgNetCapacity=None>, <Record reactorType='1417' AvgNetCapacity=None>, <Record reactorType='GCR' AvgNetCapacity=None>, <Record reactorType='1720' AvgNetCapacity=None>, <Record reactorType='OCR' AvgNetCapacity=None>, <Record reactorType='SFR' AvgNetCapacity=None>, <Record reactorType='SGR' AvgNetCapacity=None>, <Record reactorType='HTGR' AvgNetCapacity=None>], summary=<neo4j._work.summary.ResultSummary object at 0x132eccb50>, keys=['reactorType', 'AvgNetCapacity'])\n"
     ]
    }
   ],
   "source": [
    "query = \"\"\"\n",
    "MATCH (r:Reactor)\n",
    "WHERE r.`NetCapacityMWe` IS NOT NULL\n",
    "WITH r.`ReactorType` AS reactorType, toFloat(r.`Net Capacity (MWe)`) AS netCapacity\n",
    "RETURN reactorType, AVG(netCapacity) AS AvgNetCapacity\n",
    "\"\"\"\n",
    "\n",
    "result = driver.execute_query(query)\n",
    "\n",
    "print(\"Average net capacity of reactors by type:\", result)\n"
   ]
  },
  {
   "cell_type": "markdown",
   "metadata": {},
   "source": [
    "### 9. Calculate the percentage of reactors in Brazil that are currently under construction."
   ]
  },
  {
   "cell_type": "code",
   "execution_count": 68,
   "metadata": {},
   "outputs": [
    {
     "name": "stdout",
     "output_type": "stream",
     "text": [
      "EagerResult(records=[<Record PercentageUnderConstruction=100.0>], summary=<neo4j._work.summary.ResultSummary object at 0x132e5fbd0>, keys=['PercentageUnderConstruction'])\n"
     ]
    }
   ],
   "source": [
    "query = \"\"\"\n",
    "MATCH (r:Reactor)-[:LOCATED_IN]->(c:Country)\n",
    "WHERE c.name = 'Brazil' AND r.Status = 'Under Construction'\n",
    "WITH count(r) AS underConstructionCount\n",
    "MATCH (r:Reactor)-[:LOCATED_IN]->(c:Country)\n",
    "WHERE c.name = 'Brazil'\n",
    "WITH underConstructionCount, count(r) AS totalReactors\n",
    "RETURN (toFloat(underConstructionCount) / totalReactors) * 100 AS PercentageUnderConstruction\n",
    "\"\"\"\n",
    "\n",
    "result = driver.execute_query(query)\n",
    "print(result)   "
   ]
  },
  {
   "cell_type": "markdown",
   "metadata": {},
   "source": [
    "### 10. What is the percentage of reactors with PHWR (Pressurized Heavy Water Reactor) type?"
   ]
  },
  {
   "cell_type": "code",
   "execution_count": 70,
   "metadata": {},
   "outputs": [
    {
     "name": "stdout",
     "output_type": "stream",
     "text": [
      "EagerResult(records=[<Record PercentagePHWR=8.02139037433155>], summary=<neo4j._work.summary.ResultSummary object at 0x130682b10>, keys=['PercentagePHWR'])\n"
     ]
    }
   ],
   "source": [
    "calculate_percentage_query = \"\"\"\n",
    "MATCH (r:Reactor)\n",
    "WHERE r.`ReactorType` = 'PHWR'\n",
    "WITH count(r) AS phwrCount\n",
    "MATCH (r:Reactor)\n",
    "WITH phwrCount, count(r) AS totalReactors\n",
    "RETURN (toFloat(phwrCount) / totalReactors) * 100 AS PercentagePHWR\n",
    "\"\"\"\n",
    "result = driver.execute_query(calculate_percentage_query)\n",
    "\n",
    "print(result)"
   ]
  },
  {
   "cell_type": "markdown",
   "metadata": {},
   "source": [
    "### 11. Find the top 5 combinations of location and reactor type that have the highest average net capacity (MWe), along with the names of the reactors in these combinations."
   ]
  },
  {
   "cell_type": "code",
   "execution_count": 71,
   "metadata": {},
   "outputs": [
    {
     "name": "stdout",
     "output_type": "stream",
     "text": [
      "EagerResult(records=[<Record Location='Fujian' ReactorType=None AvgNetCapacity=None>, <Record Location='Guangdong' ReactorType=None AvgNetCapacity=None>, <Record Location='Guangxi' ReactorType=None AvgNetCapacity=None>, <Record Location='Hainan' ReactorType=None AvgNetCapacity=None>, <Record Location='' ReactorType=None AvgNetCapacity=None>], summary=<neo4j._work.summary.ResultSummary object at 0x132ebec50>, keys=['Location', 'ReactorType', 'AvgNetCapacity'])\n"
     ]
    }
   ],
   "source": [
    "query = \"\"\"\n",
    "MATCH (r:Reactor)\n",
    "RETURN r.`Location` AS Location, r.`Reactor Type` AS ReactorType, AVG(toFloat(r.`Net Capacity (MWe)`)) AS AvgNetCapacity\n",
    "ORDER BY AvgNetCapacity DESC\n",
    "LIMIT 5\n",
    "\"\"\"\n",
    "\n",
    "result = driver.execute_query(query)\n",
    "print(result)   "
   ]
  }
 ],
 "metadata": {
  "kernelspec": {
   "display_name": "Python 3",
   "language": "python",
   "name": "python3"
  },
  "language_info": {
   "codemirror_mode": {
    "name": "ipython",
    "version": 3
   },
   "file_extension": ".py",
   "mimetype": "text/x-python",
   "name": "python",
   "nbconvert_exporter": "python",
   "pygments_lexer": "ipython3",
   "version": "3.11.5"
  }
 },
 "nbformat": 4,
 "nbformat_minor": 2
}
